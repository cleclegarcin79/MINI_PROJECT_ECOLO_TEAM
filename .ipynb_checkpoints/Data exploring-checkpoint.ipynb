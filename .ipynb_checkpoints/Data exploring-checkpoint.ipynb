{
 "cells": [
  {
   "cell_type": "markdown",
   "metadata": {
    "run_control": {
     "frozen": false,
     "read_only": false
    }
   },
   "source": [
    "# Imports and Datasets"
   ]
  },
  {
   "cell_type": "code",
   "execution_count": 25,
   "metadata": {
    "collapsed": false,
    "run_control": {
     "frozen": false,
     "read_only": false
    }
   },
   "outputs": [],
   "source": [
    "import numpy as np\n",
    "import matplotlib.pyplot as plt\n",
    "import seaborn as sns\n",
    "import pandas as pd\n",
    "\n",
    "from sklearn.tree import DecisionTreeRegressor \n",
    "from sklearn.ensemble import RandomForestRegressor \n",
    "from sklearn.svm import SVR \n",
    "from sklearn.neighbors import KNeighborsRegressor \n",
    "from sklearn.neural_network import MLPRegressor\n",
    "from sklearn.linear_model import SGDRegressor\n",
    "\n",
    "from sklearn.preprocessing import Imputer\n",
    "from sklearn.model_selection import KFold\n",
    "from sklearn.metrics import r2_score, explained_variance_score\n",
    "\n",
    "import warnings"
   ]
  },
  {
   "cell_type": "code",
   "execution_count": 26,
   "metadata": {
    "collapsed": false,
    "run_control": {
     "frozen": false,
     "read_only": false
    }
   },
   "outputs": [
    {
     "name": "stderr",
     "output_type": "stream",
     "text": [
      "/home/ash/anaconda3/lib/python3.5/site-packages/IPython/core/interactiveshell.py:2717: DtypeWarning: Columns (10,14,18) have mixed types. Specify dtype option on import or set low_memory=False.\n",
      "  interactivity=interactivity, compiler=compiler, result=result)\n"
     ]
    }
   ],
   "source": [
    "data = pd.read_csv(\"./2015_Air_quality_in_northern_Taiwan.csv\")\n",
    "#np.loadtxt(\"./2015_Air_quality_in_northern_Taiwan.csv\", delimiter=',', skiprows=1, dtype=np.str)"
   ]
  },
  {
   "cell_type": "markdown",
   "metadata": {
    "collapsed": true,
    "run_control": {
     "frozen": false,
     "read_only": false
    }
   },
   "source": [
    "stations = np.unique(data['station'])"
   ]
  },
  {
   "cell_type": "markdown",
   "metadata": {
    "collapsed": false,
    "run_control": {
     "frozen": false,
     "read_only": false
    }
   },
   "source": [
    "for station in stations:\n",
    "    plt.plot(np.arange(data[data.station==station][\"NOx\"].shape[0]), data[data.station==station][\"NOx\"].replace(to_replace=r'x|#|\\*', value='', regex=True).astype(np.float), label=station)\n",
    "\n",
    "plt.legend(loc=(1,0))\n",
    "plt.show()"
   ]
  },
  {
   "cell_type": "markdown",
   "metadata": {
    "run_control": {
     "frozen": false,
     "read_only": false
    }
   },
   "source": [
    "# Preprocessing"
   ]
  },
  {
   "cell_type": "code",
   "execution_count": 27,
   "metadata": {
    "collapsed": false,
    "run_control": {
     "frozen": false,
     "read_only": false
    }
   },
   "outputs": [],
   "source": [
    "data.columns[np.any(data == \"NR\", axis=0)]\n",
    "old_size = data.shape[0]"
   ]
  },
  {
   "cell_type": "code",
   "execution_count": 28,
   "metadata": {
    "collapsed": false,
    "run_control": {
     "frozen": false,
     "read_only": false
    }
   },
   "outputs": [
    {
     "name": "stdout",
     "output_type": "stream",
     "text": [
      "dropped 0 lines\n",
      "dropped 0 lines\n",
      "dropped 1411 lines\n",
      "dropped 0 lines\n",
      "dropped 0 lines\n"
     ]
    }
   ],
   "source": [
    "data = data.drop([\"time\",\"station\"], 1)\n",
    "print(\"dropped {} lines\".format(old_size - data.shape[0]))\n",
    "old_size = data.shape[0]\n",
    "\n",
    "data = data.drop(data.columns[np.any(data == \"NR\", axis=0)],1)\n",
    "print(\"dropped {} lines\".format(old_size - data.shape[0]))\n",
    "old_size = data.shape[0]\n",
    "\n",
    "data = data[~data[\"NOx\"].isnull()]\n",
    "print(\"dropped {} lines\".format(old_size - data.shape[0]))\n",
    "old_size = data.shape[0]\n",
    "\n",
    "data = data.replace(to_replace=r'x|#|\\*', value='', regex=True).astype(np.float)\n",
    "print(\"dropped {} lines\".format(old_size - data.shape[0]))\n",
    "old_size = data.shape[0]\n",
    "\n",
    "for col in data.columns:\n",
    "    fill_na = Imputer(strategy='mean', axis=1)\n",
    "    data[col] = fill_na.fit_transform(data[col].values.reshape(1,-1)).reshape(-1,)\n",
    "#data = data.fillna(value=0)\n",
    "print(\"dropped {} lines\".format(old_size - data.shape[0]))\n",
    "old_size = data.shape[0]"
   ]
  },
  {
   "cell_type": "code",
   "execution_count": 29,
   "metadata": {
    "collapsed": false,
    "run_control": {
     "frozen": false,
     "read_only": false
    }
   },
   "outputs": [
    {
     "data": {
      "text/plain": [
       "Index(['AMB_TEMP', 'CH4', 'CO', 'NMHC', 'NO', 'NO2', 'NOx', 'O3', 'PM10', 'RH',\n",
       "       'SO2', 'THC', 'UVB', 'WD_HR', 'WIND_DIREC', 'WIND_SPEED', 'WS_HR'],\n",
       "      dtype='object')"
      ]
     },
     "execution_count": 29,
     "metadata": {},
     "output_type": "execute_result"
    }
   ],
   "source": [
    "data.columns"
   ]
  },
  {
   "cell_type": "code",
   "execution_count": 30,
   "metadata": {
    "collapsed": false,
    "run_control": {
     "frozen": false,
     "read_only": false
    }
   },
   "outputs": [
    {
     "data": {
      "text/plain": [
       "217229"
      ]
     },
     "execution_count": 30,
     "metadata": {},
     "output_type": "execute_result"
    }
   ],
   "source": [
    "data.shape[0]"
   ]
  },
  {
   "cell_type": "markdown",
   "metadata": {
    "run_control": {
     "frozen": false,
     "read_only": false
    }
   },
   "source": [
    "# Data set"
   ]
  },
  {
   "cell_type": "code",
   "execution_count": 31,
   "metadata": {
    "collapsed": true,
    "run_control": {
     "frozen": false,
     "read_only": false
    }
   },
   "outputs": [],
   "source": [
    "cut = 0.1"
   ]
  },
  {
   "cell_type": "code",
   "execution_count": 32,
   "metadata": {
    "collapsed": false,
    "run_control": {
     "frozen": false,
     "read_only": false
    }
   },
   "outputs": [],
   "source": [
    "y = np.array(data['NOx'])\n",
    "X = np.array(data.drop(['NOx','NO', 'NO2'], 1))\n",
    "\n",
    "idx = np.arange(X.shape[0])\n",
    "np.random.shuffle(idx)\n",
    "test_idx = idx[:int(X.shape[0]*0.4)]\n",
    "train_idx = idx[int(X.shape[0]*0.4):]\n",
    "\n",
    "X_train = X[train_idx]\n",
    "y_train = y[train_idx]\n",
    "\n",
    "X_test = X[test_idx]\n",
    "y_test = y[test_idx]"
   ]
  },
  {
   "cell_type": "code",
   "execution_count": 33,
   "metadata": {
    "collapsed": true,
    "run_control": {
     "frozen": false,
     "read_only": false
    }
   },
   "outputs": [],
   "source": [
    "def mse(y_true, y_pred):\n",
    "    return np.mean((y_true-y_pred) * (y_true-y_pred))"
   ]
  },
  {
   "cell_type": "markdown",
   "metadata": {
    "run_control": {
     "frozen": false,
     "read_only": false
    }
   },
   "source": [
    "# Hyper param search"
   ]
  },
  {
   "cell_type": "code",
   "execution_count": null,
   "metadata": {
    "collapsed": true,
    "run_control": {
     "frozen": false,
     "read_only": false
    }
   },
   "outputs": [],
   "source": []
  },
  {
   "cell_type": "markdown",
   "metadata": {
    "run_control": {
     "frozen": false,
     "read_only": false
    }
   },
   "source": [
    "# Model cross-val"
   ]
  },
  {
   "cell_type": "code",
   "execution_count": 34,
   "metadata": {
    "collapsed": false,
    "run_control": {
     "frozen": false,
     "read_only": false
    },
    "scrolled": true
   },
   "outputs": [
    {
     "data": {
      "text/plain": [
       "array([[  2.33098052e+01,   1.92872425e+00,   1.10000000e-01, ...,\n",
       "          1.45398063e+02,   2.41644380e+00,   1.99169579e+00],\n",
       "       [  2.10000000e+01,   1.92872425e+00,   3.00000000e-01, ...,\n",
       "          1.92000000e+02,   8.00000000e-01,   3.00000000e-01],\n",
       "       [  2.33098052e+01,   1.92872425e+00,   2.70000000e-01, ...,\n",
       "          1.45398063e+02,   2.41644380e+00,   1.99169579e+00],\n",
       "       ..., \n",
       "       [  2.80000000e+01,   2.00000000e+00,   1.07000000e+00, ...,\n",
       "          7.40000000e+01,   1.00000000e+00,   2.00000000e-01],\n",
       "       [  2.70000000e+01,   1.92872425e+00,   2.50000000e-01, ...,\n",
       "          7.10000000e+01,   1.00000000e+00,   1.00000000e+00],\n",
       "       [  3.00000000e+01,   1.92872425e+00,   3.60000000e-01, ...,\n",
       "          2.81000000e+02,   1.40000000e+00,   7.00000000e-01]])"
      ]
     },
     "execution_count": 34,
     "metadata": {},
     "output_type": "execute_result"
    }
   ],
   "source": [
    "X_train"
   ]
  },
  {
   "cell_type": "code",
   "execution_count": 35,
   "metadata": {
    "collapsed": false,
    "run_control": {
     "frozen": false,
     "read_only": false
    }
   },
   "outputs": [
    {
     "name": "stdout",
     "output_type": "stream",
     "text": [
      "Decision Tree:\t MSE=127.93±3.27 \t r-squared=0.82±0.01 \t explained var=0.82±0.01\n",
      "Random Forest:\t MSE=69.62±1.90 \t r-squared=0.90±0.00 \t explained var=0.90±0.00\n",
      "KNN:\t\t MSE=222.81±3.20 \t r-squared=0.69±0.01 \t explained var=0.69±0.01\n",
      "Neural Net:\t MSE=97.92±13.86 \t r-squared=0.86±0.02 \t explained var=0.87±0.01\n"
     ]
    }
   ],
   "source": [
    "from sklearn.exceptions import ConvergenceWarning\n",
    "\n",
    "models = [DecisionTreeRegressor, RandomForestRegressor, KNeighborsRegressor, MLPRegressor]#, SVR()]\n",
    "model_param = [{}, {\"n_jobs\":4}, {\"n_jobs\":4}, {\"hidden_layer_sizes\":(200,100,50), \"max_iter\":10}, {}]\n",
    "model_name = [\"Decision Tree:\", \"Random Forest:\", \"KNN:\\t\", \"Neural Net:\", \"SVM:\\t\"]\n",
    "n_folds=5\n",
    "\n",
    "for i in range(len(models)):\n",
    "    regressor = models[i]\n",
    "    name = model_name[i]\n",
    "    param = model_param[i]\n",
    "    \n",
    "    mse_list = []\n",
    "    r2_score_list = []\n",
    "    explained_variance_score_list = []\n",
    "\n",
    "    kf = KFold(n_splits=n_folds)\n",
    "    for train, test in kf.split(X_train, y_train):\n",
    "        model = regressor(**param)\n",
    "        \n",
    "        with warnings.catch_warnings():\n",
    "            warnings.simplefilter(\"ignore\", category=ConvergenceWarning)\n",
    "            model.fit(X_train[train], y_train[train])\n",
    "            \n",
    "        pred = model.predict(X_train[test])\n",
    "\n",
    "        mse_list.append(mse(y_train[test],pred))\n",
    "        r2_score_list.append(r2_score(y_train[test],pred))\n",
    "        explained_variance_score_list.append(explained_variance_score(y_train[test],pred))\n",
    "\n",
    "    print(\"{}\\t MSE={:.2f}±{:.2f} \\t r-squared={:.2f}±{:.2f} \\t explained var={:.2f}±{:.2f}\".format(name, \n",
    "                                                                               np.mean(mse_list), \n",
    "                                                                               np.std(mse_list),\n",
    "                                                                               np.mean(r2_score_list), \n",
    "                                                                               np.std(r2_score_list),\n",
    "                                                                               np.mean(explained_variance_score_list), \n",
    "                                                                               np.std(explained_variance_score_list)))\n"
   ]
  },
  {
   "cell_type": "code",
   "execution_count": null,
   "metadata": {
    "collapsed": true,
    "run_control": {
     "frozen": false,
     "read_only": false
    }
   },
   "outputs": [],
   "source": []
  },
  {
   "cell_type": "code",
   "execution_count": null,
   "metadata": {
    "collapsed": true,
    "run_control": {
     "frozen": false,
     "read_only": false
    }
   },
   "outputs": [],
   "source": []
  },
  {
   "cell_type": "code",
   "execution_count": null,
   "metadata": {
    "collapsed": true,
    "run_control": {
     "frozen": false,
     "read_only": false
    }
   },
   "outputs": [],
   "source": []
  },
  {
   "cell_type": "code",
   "execution_count": null,
   "metadata": {
    "collapsed": true,
    "run_control": {
     "frozen": false,
     "read_only": false
    }
   },
   "outputs": [],
   "source": []
  }
 ],
 "metadata": {
  "anaconda-cloud": {},
  "kernelspec": {
   "display_name": "Python [conda root]",
   "language": "python",
   "name": "conda-root-py"
  },
  "language_info": {
   "codemirror_mode": {
    "name": "ipython",
    "version": 3
   },
   "file_extension": ".py",
   "mimetype": "text/x-python",
   "name": "python",
   "nbconvert_exporter": "python",
   "pygments_lexer": "ipython3",
   "version": "3.5.4"
  },
  "latex_envs": {
   "bibliofile": "biblio.bib",
   "cite_by": "apalike",
   "current_citInitial": 1,
   "eqLabelWithNumbers": true,
   "eqNumInitial": 0
  },
  "toc": {
   "colors": {
    "hover_highlight": "#DAA520",
    "running_highlight": "#FF0000",
    "selected_highlight": "#FFD700"
   },
   "moveMenuLeft": true,
   "nav_menu": {
    "height": "12px",
    "width": "252px"
   },
   "navigate_menu": true,
   "number_sections": true,
   "sideBar": true,
   "threshold": 4,
   "toc_cell": false,
   "toc_section_display": "block",
   "toc_window_display": false
  }
 },
 "nbformat": 4,
 "nbformat_minor": 1
}
