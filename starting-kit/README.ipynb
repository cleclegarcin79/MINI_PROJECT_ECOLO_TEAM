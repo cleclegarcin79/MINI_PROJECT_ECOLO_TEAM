{
 "cells": [
  {
   "cell_type": "markdown",
   "metadata": {},
   "source": [
    "<img src=\"\", width=150, ALIGN=\"left\", border=20>\n",
    "<center>\n",
    "<h1>Air Quality Challenge Starting Kit</h1>\n",
    "<br>This code was tested with <br>\n",
    "Python 2.7.13 | Anaconda 4.3.1 (https://anaconda.org/)<br>\n",
    "<a href=\"http://www.datascience-paris-saclay.fr\">Paris Saclay Center for Data Science (CDS)</a>\n",
    "</center>"
   ]
  },
  {
   "cell_type": "markdown",
   "metadata": {},
   "source": [
    "ALL INFORMATION, SOFTWARE, DOCUMENTATION, AND DATA ARE PROVIDED \"AS-IS\". The CDS, CHALEARN, AND/OR OTHER ORGANIZERS OR CODE AUTHORS DISCLAIM ANY EXPRESSED OR IMPLIED WARRANTIES, INCLUDING, BUT NOT LIMITED TO, THE IMPLIED WARRANTIES OF MERCHANTABILITY AND FITNESS FOR ANY PARTICULAR PURPOSE, AND THE WARRANTY OF NON-INFRIGEMENT OF ANY THIRD PARTY'S INTELLECTUAL PROPERTY RIGHTS. IN NO EVENT SHALL AUTHORS AND ORGANIZERS BE LIABLE FOR ANY SPECIAL, \n",
    "INDIRECT OR CONSEQUENTIAL DAMAGES OR ANY DAMAGES WHATSOEVER ARISING OUT OF OR IN CONNECTION WITH THE USE OR PERFORMANCE OF SOFTWARE, DOCUMENTS, MATERIALS, PUBLICATIONS, OR INFORMATION MADE AVAILABLE FOR THE CHALLENGE. "
   ]
  },
  {
   "cell_type": "markdown",
   "metadata": {},
   "source": [
    "# Introduction\n",
    "\n",
    "<div style=\"background:#FFFFAA\">CHANGE THAT: The Air Quality challenge, a regression problem inspired from XXXXXX, formatted in the AutoML format. \n",
    "</div>"
   ]
  },
  {
   "cell_type": "code",
   "execution_count": 1,
   "metadata": {
    "collapsed": true
   },
   "outputs": [],
   "source": [
    "model_dir = 'sample_code_submission/'          \n",
    "problem_dir = 'ingestion_program/'  \n",
    "score_dir = 'scoring_program/'\n",
    "from sys import path; path.append(model_dir); path.append(problem_dir); path.append(score_dir); \n",
    "%matplotlib inline\n",
    "%load_ext autoreload\n",
    "%autoreload 2\n",
    "import seaborn as sns; sns.set()"
   ]
  },
  {
   "cell_type": "markdown",
   "metadata": {},
   "source": [
    "<h1> Step 1: Exploratory data analysis </h1>\n",
    "We provide sample_data with the starting kit, but to prepare your submission, you must fetch the public_data from the challenge website and point to it."
   ]
  },
  {
   "cell_type": "code",
   "execution_count": 2,
   "metadata": {},
   "outputs": [
    {
     "name": "stdout",
     "output_type": "stream",
     "text": [
      "data_feat.name      data_test.data      data_train.data     data_valid.data\r\n",
      "data_label.name     data_test.solution  data_train.solution data_valid.solution\r\n"
     ]
    }
   ],
   "source": [
    "datadir = 'sample_data'              # Change this to the directory where you put the input data\n",
    "dataname = 'data'\n",
    "!ls $datadir*"
   ]
  },
  {
   "cell_type": "markdown",
   "metadata": {},
   "source": [
    "For convenience, we load the data as a \"pandas\" data frame, so we can use \"pandas\" and \"seaborn\" built in functions to explore the data. YOU MIGHT WANT TO KEEP THIS UNTIL THE NEXT YELLOW BLOCK."
   ]
  },
  {
   "cell_type": "code",
   "execution_count": 3,
   "metadata": {},
   "outputs": [
    {
     "name": "stdout",
     "output_type": "stream",
     "text": [
      "Reading sample_data/data_train from AutoML format\n",
      "Number of examples = 56480\n",
      "Number of features = 14\n",
      "Number of labels = 1\n"
     ]
    }
   ],
   "source": [
    "from data_io import read_as_df\n",
    "data = read_as_df(datadir  + '/' + dataname)                # The data are loaded as a Pandas Data Frame\n",
    "target_name = data.columns.values[-1]                       # The last column is the target"
   ]
  },
  {
   "cell_type": "code",
   "execution_count": 4,
   "metadata": {},
   "outputs": [
    {
     "data": {
      "text/html": [
       "<div>\n",
       "<style>\n",
       "    .dataframe thead tr:only-child th {\n",
       "        text-align: right;\n",
       "    }\n",
       "\n",
       "    .dataframe thead th {\n",
       "        text-align: left;\n",
       "    }\n",
       "\n",
       "    .dataframe tbody tr th {\n",
       "        vertical-align: top;\n",
       "    }\n",
       "</style>\n",
       "<table border=\"1\" class=\"dataframe\">\n",
       "  <thead>\n",
       "    <tr style=\"text-align: right;\">\n",
       "      <th></th>\n",
       "      <th>AMB_TEMP</th>\n",
       "      <th>CH4</th>\n",
       "      <th>CO</th>\n",
       "      <th>NMHC</th>\n",
       "      <th>O3</th>\n",
       "      <th>PM10</th>\n",
       "      <th>RH</th>\n",
       "      <th>SO2</th>\n",
       "      <th>THC</th>\n",
       "      <th>UVB</th>\n",
       "      <th>WD_HR</th>\n",
       "      <th>WIND_DIREC</th>\n",
       "      <th>WIND_SPEED</th>\n",
       "      <th>WS_HR</th>\n",
       "      <th>NOx</th>\n",
       "    </tr>\n",
       "  </thead>\n",
       "  <tbody>\n",
       "    <tr>\n",
       "      <th>0</th>\n",
       "      <td>27.0</td>\n",
       "      <td>2.100000</td>\n",
       "      <td>1.73</td>\n",
       "      <td>0.610000</td>\n",
       "      <td>29.050903</td>\n",
       "      <td>42.0</td>\n",
       "      <td>67.0</td>\n",
       "      <td>2.7</td>\n",
       "      <td>2.700000</td>\n",
       "      <td>1.319917</td>\n",
       "      <td>145.220935</td>\n",
       "      <td>145.398063</td>\n",
       "      <td>2.416444</td>\n",
       "      <td>1.991696</td>\n",
       "      <td>93.0</td>\n",
       "    </tr>\n",
       "    <tr>\n",
       "      <th>1</th>\n",
       "      <td>29.0</td>\n",
       "      <td>1.928724</td>\n",
       "      <td>0.28</td>\n",
       "      <td>0.267695</td>\n",
       "      <td>37.000000</td>\n",
       "      <td>59.0</td>\n",
       "      <td>78.0</td>\n",
       "      <td>3.3</td>\n",
       "      <td>2.195732</td>\n",
       "      <td>1.319917</td>\n",
       "      <td>279.000000</td>\n",
       "      <td>314.000000</td>\n",
       "      <td>2.600000</td>\n",
       "      <td>0.900000</td>\n",
       "      <td>15.0</td>\n",
       "    </tr>\n",
       "    <tr>\n",
       "      <th>2</th>\n",
       "      <td>31.0</td>\n",
       "      <td>1.928724</td>\n",
       "      <td>0.44</td>\n",
       "      <td>0.267695</td>\n",
       "      <td>31.000000</td>\n",
       "      <td>40.0</td>\n",
       "      <td>61.0</td>\n",
       "      <td>9.8</td>\n",
       "      <td>2.195732</td>\n",
       "      <td>1.319917</td>\n",
       "      <td>116.000000</td>\n",
       "      <td>87.000000</td>\n",
       "      <td>1.700000</td>\n",
       "      <td>1.200000</td>\n",
       "      <td>20.0</td>\n",
       "    </tr>\n",
       "    <tr>\n",
       "      <th>3</th>\n",
       "      <td>17.0</td>\n",
       "      <td>1.928724</td>\n",
       "      <td>0.57</td>\n",
       "      <td>0.267695</td>\n",
       "      <td>3.600000</td>\n",
       "      <td>66.0</td>\n",
       "      <td>84.0</td>\n",
       "      <td>4.3</td>\n",
       "      <td>2.195732</td>\n",
       "      <td>1.319917</td>\n",
       "      <td>61.000000</td>\n",
       "      <td>58.000000</td>\n",
       "      <td>1.200000</td>\n",
       "      <td>0.700000</td>\n",
       "      <td>51.0</td>\n",
       "    </tr>\n",
       "    <tr>\n",
       "      <th>4</th>\n",
       "      <td>13.0</td>\n",
       "      <td>2.400000</td>\n",
       "      <td>0.87</td>\n",
       "      <td>0.490000</td>\n",
       "      <td>0.700000</td>\n",
       "      <td>56.0</td>\n",
       "      <td>83.0</td>\n",
       "      <td>3.4</td>\n",
       "      <td>2.900000</td>\n",
       "      <td>0.000000</td>\n",
       "      <td>248.000000</td>\n",
       "      <td>231.000000</td>\n",
       "      <td>0.800000</td>\n",
       "      <td>0.900000</td>\n",
       "      <td>48.0</td>\n",
       "    </tr>\n",
       "  </tbody>\n",
       "</table>\n",
       "</div>"
      ],
      "text/plain": [
       "   AMB_TEMP       CH4    CO      NMHC         O3  PM10    RH  SO2       THC  \\\n",
       "0      27.0  2.100000  1.73  0.610000  29.050903  42.0  67.0  2.7  2.700000   \n",
       "1      29.0  1.928724  0.28  0.267695  37.000000  59.0  78.0  3.3  2.195732   \n",
       "2      31.0  1.928724  0.44  0.267695  31.000000  40.0  61.0  9.8  2.195732   \n",
       "3      17.0  1.928724  0.57  0.267695   3.600000  66.0  84.0  4.3  2.195732   \n",
       "4      13.0  2.400000  0.87  0.490000   0.700000  56.0  83.0  3.4  2.900000   \n",
       "\n",
       "        UVB       WD_HR  WIND_DIREC  WIND_SPEED     WS_HR   NOx  \n",
       "0  1.319917  145.220935  145.398063    2.416444  1.991696  93.0  \n",
       "1  1.319917  279.000000  314.000000    2.600000  0.900000  15.0  \n",
       "2  1.319917  116.000000   87.000000    1.700000  1.200000  20.0  \n",
       "3  1.319917   61.000000   58.000000    1.200000  0.700000  51.0  \n",
       "4  0.000000  248.000000  231.000000    0.800000  0.900000  48.0  "
      ]
     },
     "execution_count": 4,
     "metadata": {},
     "output_type": "execute_result"
    }
   ],
   "source": [
    "data.head()"
   ]
  },
  {
   "cell_type": "code",
   "execution_count": 5,
   "metadata": {},
   "outputs": [
    {
     "data": {
      "text/html": [
       "<div>\n",
       "<style>\n",
       "    .dataframe thead tr:only-child th {\n",
       "        text-align: right;\n",
       "    }\n",
       "\n",
       "    .dataframe thead th {\n",
       "        text-align: left;\n",
       "    }\n",
       "\n",
       "    .dataframe tbody tr th {\n",
       "        vertical-align: top;\n",
       "    }\n",
       "</style>\n",
       "<table border=\"1\" class=\"dataframe\">\n",
       "  <thead>\n",
       "    <tr style=\"text-align: right;\">\n",
       "      <th></th>\n",
       "      <th>AMB_TEMP</th>\n",
       "      <th>CH4</th>\n",
       "      <th>CO</th>\n",
       "      <th>NMHC</th>\n",
       "      <th>O3</th>\n",
       "      <th>PM10</th>\n",
       "      <th>RH</th>\n",
       "      <th>SO2</th>\n",
       "      <th>THC</th>\n",
       "      <th>UVB</th>\n",
       "      <th>WD_HR</th>\n",
       "      <th>WIND_DIREC</th>\n",
       "      <th>WIND_SPEED</th>\n",
       "      <th>WS_HR</th>\n",
       "      <th>NOx</th>\n",
       "    </tr>\n",
       "  </thead>\n",
       "  <tbody>\n",
       "    <tr>\n",
       "      <th>count</th>\n",
       "      <td>56480.000000</td>\n",
       "      <td>56480.000000</td>\n",
       "      <td>56480.000000</td>\n",
       "      <td>56480.000000</td>\n",
       "      <td>56480.000000</td>\n",
       "      <td>56480.000000</td>\n",
       "      <td>56480.000000</td>\n",
       "      <td>56480.000000</td>\n",
       "      <td>56480.000000</td>\n",
       "      <td>56480.000000</td>\n",
       "      <td>56480.000000</td>\n",
       "      <td>56480.000000</td>\n",
       "      <td>56480.000000</td>\n",
       "      <td>56480.000000</td>\n",
       "      <td>56480.000000</td>\n",
       "    </tr>\n",
       "    <tr>\n",
       "      <th>mean</th>\n",
       "      <td>23.340737</td>\n",
       "      <td>1.928878</td>\n",
       "      <td>0.564023</td>\n",
       "      <td>0.268099</td>\n",
       "      <td>29.068681</td>\n",
       "      <td>46.107633</td>\n",
       "      <td>75.808382</td>\n",
       "      <td>3.412048</td>\n",
       "      <td>2.196494</td>\n",
       "      <td>1.322046</td>\n",
       "      <td>145.446172</td>\n",
       "      <td>145.607097</td>\n",
       "      <td>2.407048</td>\n",
       "      <td>1.985635</td>\n",
       "      <td>26.875728</td>\n",
       "    </tr>\n",
       "    <tr>\n",
       "      <th>std</th>\n",
       "      <td>5.627341</td>\n",
       "      <td>0.152023</td>\n",
       "      <td>0.521045</td>\n",
       "      <td>0.157223</td>\n",
       "      <td>17.242120</td>\n",
       "      <td>179.404763</td>\n",
       "      <td>13.151818</td>\n",
       "      <td>5.362334</td>\n",
       "      <td>0.262611</td>\n",
       "      <td>0.814188</td>\n",
       "      <td>79.330740</td>\n",
       "      <td>80.236460</td>\n",
       "      <td>1.561973</td>\n",
       "      <td>1.542475</td>\n",
       "      <td>26.729425</td>\n",
       "    </tr>\n",
       "    <tr>\n",
       "      <th>min</th>\n",
       "      <td>-26.200000</td>\n",
       "      <td>-0.700000</td>\n",
       "      <td>-0.110000</td>\n",
       "      <td>-0.240000</td>\n",
       "      <td>-7.500000</td>\n",
       "      <td>-64.000000</td>\n",
       "      <td>0.000000</td>\n",
       "      <td>-6.600000</td>\n",
       "      <td>-0.200000</td>\n",
       "      <td>0.000000</td>\n",
       "      <td>0.000000</td>\n",
       "      <td>0.000000</td>\n",
       "      <td>0.000000</td>\n",
       "      <td>0.000000</td>\n",
       "      <td>-3.600000</td>\n",
       "    </tr>\n",
       "    <tr>\n",
       "      <th>25%</th>\n",
       "      <td>19.000000</td>\n",
       "      <td>1.900000</td>\n",
       "      <td>0.270000</td>\n",
       "      <td>0.230000</td>\n",
       "      <td>16.000000</td>\n",
       "      <td>26.000000</td>\n",
       "      <td>68.000000</td>\n",
       "      <td>1.700000</td>\n",
       "      <td>2.195732</td>\n",
       "      <td>1.319917</td>\n",
       "      <td>83.000000</td>\n",
       "      <td>82.000000</td>\n",
       "      <td>1.400000</td>\n",
       "      <td>0.900000</td>\n",
       "      <td>10.000000</td>\n",
       "    </tr>\n",
       "    <tr>\n",
       "      <th>50%</th>\n",
       "      <td>23.309805</td>\n",
       "      <td>1.928724</td>\n",
       "      <td>0.410000</td>\n",
       "      <td>0.267695</td>\n",
       "      <td>29.050903</td>\n",
       "      <td>37.000000</td>\n",
       "      <td>76.000000</td>\n",
       "      <td>2.600000</td>\n",
       "      <td>2.195732</td>\n",
       "      <td>1.319917</td>\n",
       "      <td>145.220935</td>\n",
       "      <td>145.398063</td>\n",
       "      <td>2.300000</td>\n",
       "      <td>1.900000</td>\n",
       "      <td>19.000000</td>\n",
       "    </tr>\n",
       "    <tr>\n",
       "      <th>75%</th>\n",
       "      <td>27.000000</td>\n",
       "      <td>1.928724</td>\n",
       "      <td>0.660000</td>\n",
       "      <td>0.267695</td>\n",
       "      <td>40.000000</td>\n",
       "      <td>51.000000</td>\n",
       "      <td>85.000000</td>\n",
       "      <td>4.000000</td>\n",
       "      <td>2.195732</td>\n",
       "      <td>1.319917</td>\n",
       "      <td>198.000000</td>\n",
       "      <td>198.000000</td>\n",
       "      <td>2.800000</td>\n",
       "      <td>2.400000</td>\n",
       "      <td>33.000000</td>\n",
       "    </tr>\n",
       "    <tr>\n",
       "      <th>max</th>\n",
       "      <td>59.000000</td>\n",
       "      <td>9.000000</td>\n",
       "      <td>23.000000</td>\n",
       "      <td>3.060000</td>\n",
       "      <td>161.000000</td>\n",
       "      <td>9999.000000</td>\n",
       "      <td>100.000000</td>\n",
       "      <td>311.000000</td>\n",
       "      <td>9.900000</td>\n",
       "      <td>12.000000</td>\n",
       "      <td>360.000000</td>\n",
       "      <td>360.000000</td>\n",
       "      <td>50.000000</td>\n",
       "      <td>50.000000</td>\n",
       "      <td>402.000000</td>\n",
       "    </tr>\n",
       "  </tbody>\n",
       "</table>\n",
       "</div>"
      ],
      "text/plain": [
       "           AMB_TEMP           CH4            CO          NMHC            O3  \\\n",
       "count  56480.000000  56480.000000  56480.000000  56480.000000  56480.000000   \n",
       "mean      23.340737      1.928878      0.564023      0.268099     29.068681   \n",
       "std        5.627341      0.152023      0.521045      0.157223     17.242120   \n",
       "min      -26.200000     -0.700000     -0.110000     -0.240000     -7.500000   \n",
       "25%       19.000000      1.900000      0.270000      0.230000     16.000000   \n",
       "50%       23.309805      1.928724      0.410000      0.267695     29.050903   \n",
       "75%       27.000000      1.928724      0.660000      0.267695     40.000000   \n",
       "max       59.000000      9.000000     23.000000      3.060000    161.000000   \n",
       "\n",
       "               PM10            RH           SO2           THC           UVB  \\\n",
       "count  56480.000000  56480.000000  56480.000000  56480.000000  56480.000000   \n",
       "mean      46.107633     75.808382      3.412048      2.196494      1.322046   \n",
       "std      179.404763     13.151818      5.362334      0.262611      0.814188   \n",
       "min      -64.000000      0.000000     -6.600000     -0.200000      0.000000   \n",
       "25%       26.000000     68.000000      1.700000      2.195732      1.319917   \n",
       "50%       37.000000     76.000000      2.600000      2.195732      1.319917   \n",
       "75%       51.000000     85.000000      4.000000      2.195732      1.319917   \n",
       "max     9999.000000    100.000000    311.000000      9.900000     12.000000   \n",
       "\n",
       "              WD_HR    WIND_DIREC    WIND_SPEED         WS_HR           NOx  \n",
       "count  56480.000000  56480.000000  56480.000000  56480.000000  56480.000000  \n",
       "mean     145.446172    145.607097      2.407048      1.985635     26.875728  \n",
       "std       79.330740     80.236460      1.561973      1.542475     26.729425  \n",
       "min        0.000000      0.000000      0.000000      0.000000     -3.600000  \n",
       "25%       83.000000     82.000000      1.400000      0.900000     10.000000  \n",
       "50%      145.220935    145.398063      2.300000      1.900000     19.000000  \n",
       "75%      198.000000    198.000000      2.800000      2.400000     33.000000  \n",
       "max      360.000000    360.000000     50.000000     50.000000    402.000000  "
      ]
     },
     "execution_count": 5,
     "metadata": {},
     "output_type": "execute_result"
    }
   ],
   "source": [
    "data.describe() "
   ]
  },
  {
   "cell_type": "code",
   "execution_count": 6,
   "metadata": {},
   "outputs": [
    {
     "data": {
      "image/png": "[encoded data removed]",
      "text/plain": [
       "<matplotlib.figure.Figure at 0x11d38a5d0>"
      ]
     },
     "metadata": {},
     "output_type": "display_data"
    }
   ],
   "source": [
    "data.hist(figsize=(10, 10), bins=50, layout=(3, 5));"
   ]
  },
  {
   "cell_type": "markdown",
   "metadata": {},
   "source": [
    "<div style=\"background:#FFFFAA\">\n",
    "<h3> KEEP EVERYTHING ABOVE THIS SECTION \"as is\", but add NEW meaningful graphics and analyses below this paragraph."
   ]
  },
  {
   "cell_type": "markdown",
   "metadata": {},
   "source": [
    "# Step 2: Building a predictive model\n",
    "<div style=\"background:#FFFFAA\">\n",
    "KEEP EVERYTHING IN THIS SECTION."
   ]
  },
  {
   "cell_type": "markdown",
   "metadata": {},
   "source": [
    "## Loading data with DataManager\n",
    "We reload the data with the AutoML DataManager class because this is more convenient:"
   ]
  },
  {
   "cell_type": "code",
   "execution_count": 7,
   "metadata": {},
   "outputs": [
    {
     "name": "stdout",
     "output_type": "stream",
     "text": [
      "Info file NOT found : /Users/isabelleguyon/Documents/Projects/ParisSaclay/Enseignement/Winter2018/M2_AIC/2.starting_kit/ecolo_regression/starting-kit/sample_data/data_public.info\n",
      "DataManager : data\n",
      "info:\n",
      "\ttask = multiclass.classification\n",
      "\tvalid_num = 73858\n",
      "\thas_categorical = 0\n",
      "\tfeat_type = Mixed\n",
      "\tformat = dense\n",
      "\tmetric = auc_metric\n",
      "\ttarget_type = Categorical\n",
      "\ttest_num = 71685\n",
      "\tlabel_num = 351\n",
      "\ttarget_num = 1\n",
      "\ttrain_num = 56480\n",
      "\thas_missing = 0\n",
      "\tusage = No Info File\n",
      "\tfeat_num = 14\n",
      "\ttime_budget = 600\n",
      "\tis_sparse = 0\n",
      "\tname = data\n",
      "data:\n",
      "\tX_train = array(56480, 14)\n",
      "\tY_train = array(56480, 1)\n",
      "\tX_valid = array(73858, 14)\n",
      "\tX_test = array(71685, 14)\n",
      "feat_type:\tarray(14,)\n",
      "feat_idx:\tarray(0,)\n",
      "\n"
     ]
    }
   ],
   "source": [
    "from data_manager import DataManager\n",
    "D = DataManager(dataname, datadir, replace_missing=True)\n",
    "print D"
   ]
  },
  {
   "cell_type": "markdown",
   "metadata": {},
   "source": [
    "## Training a predictive model\n",
    "We provide an example of predictive model (for classification or regression) in the `sample_code_submission/` directory. It is a quite stupid model: it makes constant predictions. Replace it with your own model."
   ]
  },
  {
   "cell_type": "code",
   "execution_count": 8,
   "metadata": {
    "collapsed": true
   },
   "outputs": [],
   "source": [
    "from model import model\n",
    "??model "
   ]
  },
  {
   "cell_type": "markdown",
   "metadata": {},
   "source": [
    "<h3>Create or reload model</h3>\n",
    "Create an instance of the model (run the constructor) and attempt to reload a previously saved model from `sample_code_submission/*_model.pickle` if `reload_model=1`.<br>\n",
    "If you saved have an aldeady trained model saved in sample_code_submission, the evaluation script will reload it and not retrain, just test. This will happen the second time you run the code because when the model is trained it gets saved. <br>\n",
    "When you reload a model, you risk to reload a model trained on the wrong data. Delete `*_model.pickle` from `sample_code_submission/` if you do not want this to happen."
   ]
  },
  {
   "cell_type": "code",
   "execution_count": 9,
   "metadata": {
    "collapsed": true
   },
   "outputs": [],
   "source": [
    "M = model()   \n",
    "reload_model=0                       # Change to 1 to reload an already trained model\n",
    "\n",
    "trained_model_name = model_dir + dataname\n",
    "if reload_model:    \n",
    "    M = M.load(trained_model_name)                  # Attempts to re-load an already trained model"
   ]
  },
  {
   "cell_type": "markdown",
   "metadata": {},
   "source": [
    "<h3> Training:</h3>"
   ]
  },
  {
   "cell_type": "code",
   "execution_count": 10,
   "metadata": {},
   "outputs": [],
   "source": [
    "X_train = D.data['X_train']\n",
    "Y_train = D.data['Y_train']\n",
    "\n",
    "if not(M.is_trained):                               # No need to train if model already trained\n",
    "    M.fit(X_train, Y_train)  "
   ]
  },
  {
   "cell_type": "markdown",
   "metadata": {},
   "source": [
    "### Making predictions:"
   ]
  },
  {
   "cell_type": "code",
   "execution_count": 11,
   "metadata": {},
   "outputs": [],
   "source": [
    "Y_hat_train = M.predict(D.data['X_train']) # Optional, not really needed to test on taining examples\n",
    "Y_hat_valid = M.predict(D.data['X_valid'])\n",
    "Y_hat_test = M.predict(D.data['X_test'])"
   ]
  },
  {
   "cell_type": "markdown",
   "metadata": {},
   "source": [
    "### Saving:\n",
    "Save the trained model (will be ready to reload next time around) and save the prediction results:"
   ]
  },
  {
   "cell_type": "code",
   "execution_count": 12,
   "metadata": {},
   "outputs": [
    {
     "name": "stdout",
     "output_type": "stream",
     "text": [
      "sample_result_submission/data_test.predict\r\n",
      "sample_result_submission/data_train.predict\r\n",
      "sample_result_submission/data_valid.predict\r\n"
     ]
    }
   ],
   "source": [
    "M.save(trained_model_name)                 \n",
    "result_name = 'sample_result_submission/' + dataname\n",
    "from data_io import write\n",
    "write(result_name + '_valid.predict', Y_hat_valid)\n",
    "write(result_name + '_test.predict', Y_hat_test)\n",
    "!ls $result_name*"
   ]
  },
  {
   "cell_type": "markdown",
   "metadata": {},
   "source": [
    "## Scoring the results\n",
    "### Load the challenge metric\n",
    "<b>The metric chosen for your challenge</b> is identified in the \"metric.txt\" file found in the `scoring_function/` directory. We use here the `mse_metric` metric (an example of organizer-supplied metric found in `my_metric.py`), which computes the mean-square-error. You may change that in the \"metric.txt\" file to e.g. use `bac_multiclass`, one of the AutoML challenge metrics found in `libscores.py`, which is 2*(balanced_accuracy)-1."
   ]
  },
  {
   "cell_type": "code",
   "execution_count": 13,
   "metadata": {},
   "outputs": [
    {
     "name": "stdout",
     "output_type": "stream",
     "text": [
      "Using scoring metric: r2_regression\n"
     ]
    }
   ],
   "source": [
    "with open(score_dir + '/metric.txt', 'r') as f:\n",
    "    metric_name = f.readline().strip()\n",
    "import libscores, my_metric\n",
    "try:\n",
    "    scoring_function = getattr(libscores, metric_name)\n",
    "except:\n",
    "    scoring_function = getattr(my_metric, metric_name)\n",
    "print 'Using scoring metric:', metric_name\n",
    "??scoring_function"
   ]
  },
  {
   "cell_type": "markdown",
   "metadata": {},
   "source": [
    "### Training performance\n",
    "The participants normally posess target values (labels) only for training examples (except for the sample data). We compute with the `example` metric the training score, which should be zero for perfect predictions. \n",
    "<div style=\"background:#FFFFAA\">\n",
    "Isabelle: I found that the scoring program does not like when we compare a column vector and a line vector. This seems to be a problem only here."
   ]
  },
  {
   "cell_type": "code",
   "execution_count": 14,
   "metadata": {
    "collapsed": true
   },
   "outputs": [],
   "source": [
    "Y_train =  Y_train.ravel() # We need this conversion to a line vector"
   ]
  },
  {
   "cell_type": "code",
   "execution_count": 15,
   "metadata": {},
   "outputs": [
    {
     "name": "stdout",
     "output_type": "stream",
     "text": [
      "Training score for the r2_regression metric = 1.0000\n",
      "Ideal score for the r2_regression metric = 1.0000\n"
     ]
    }
   ],
   "source": [
    "print 'Training score for the', metric_name, 'metric = %5.4f' % scoring_function(Y_train, Y_hat_train)\n",
    "print 'Ideal score for the', metric_name, 'metric = %5.4f' % scoring_function(Y_train, Y_train)"
   ]
  },
  {
   "cell_type": "markdown",
   "metadata": {},
   "source": [
    "<div style=\"background:#FFFFAA\">\n",
    "<h4> Other metrics (optional):</h4>\n",
    "You can here compare with other metrics."
   ]
  },
  {
   "cell_type": "code",
   "execution_count": 16,
   "metadata": {},
   "outputs": [
    {
     "name": "stdout",
     "output_type": "stream",
     "text": [
      "Training score for the a_metric = 1.0000\n",
      "Ideal score for the a_metric = 1.0000\n"
     ]
    }
   ],
   "source": [
    "print 'Training score for the a_metric = %5.4f' % libscores.a_metric(Y_train, Y_hat_train)\n",
    "print 'Ideal score for the a_metric = %5.4f' % libscores.a_metric(Y_train, Y_train)"
   ]
  },
  {
   "cell_type": "markdown",
   "metadata": {},
   "source": [
    "<div style=\"background:#FFFFAA\">\n",
    "<H3> Cross-validation performance </H3>\n",
    "The participants do not have access to the labels Y_valid and Y_test to self-assess their validation and test performances. But training performance is not a good prediction of validation or test performance. Using cross-validation, the training data is split into multiple training/test folds, which allows participants to self-assess their model during development. <br>\n",
    "YOU MAY USE OTHER TYPES OF CV BUT KEEP THIS SECTION.\n"
   ]
  },
  {
   "cell_type": "code",
   "execution_count": 18,
   "metadata": {},
   "outputs": [
    {
     "name": "stdout",
     "output_type": "stream",
     "text": [
      "('Fold', 1, 'example metric = ', 0.76521395596118902)\n",
      "('Fold', 2, 'example metric = ', 0.78744010411861587)\n",
      "('Fold', 3, 'example metric = ', 0.81357782344937357)\n",
      "('Average score = ', 0.78874396117639289)\n"
     ]
    }
   ],
   "source": [
    "from sklearn.model_selection import KFold\n",
    "from numpy import zeros, mean\n",
    "# 3-fold cross-validation\n",
    "n = 3\n",
    "kf = KFold(n_splits=n)\n",
    "kf.get_n_splits(X_train)\n",
    "i=0\n",
    "scores = zeros(n)\n",
    "for train_index, test_index in kf.split(X_train):\n",
    "    Xtr, Xva = X_train[train_index], X_train[test_index]\n",
    "    Ytr, Yva = Y_train[train_index], Y_train[test_index]\n",
    "    M = model()\n",
    "    M.fit(Xtr, Ytr)\n",
    "    Yhat = M.predict(Xva)\n",
    "    scores[i] = scoring_function(Yva, Yhat)\n",
    "    print ('Fold', i+1, 'example metric = ', scores[i])\n",
    "    i=i+1\n",
    "print ('Average score = ', mean(scores))"
   ]
  },
  {
   "cell_type": "markdown",
   "metadata": {},
   "source": [
    "# Step 3: Making a submission\n",
    "\n",
    "## Unit testing\n",
    "\n",
    "It is <b><span style=\"color:red\">important that you test your submission files before submitting them</span></b>. All you have to do to make a submission is modify the file <code>model.py</code> in the <code>sample_code_submission/</code> directory, then run this test to make sure everything works fine. This is the actual program that will be run on the server to test your submission. "
   ]
  },
  {
   "cell_type": "code",
   "execution_count": 19,
   "metadata": {
    "collapsed": true,
    "scrolled": true
   },
   "outputs": [],
   "source": [
    "outdir = 'sample_result_submission'     "
   ]
  },
  {
   "cell_type": "code",
   "execution_count": 20,
   "metadata": {
    "scrolled": true
   },
   "outputs": [
    {
     "name": "stdout",
     "output_type": "stream",
     "text": [
      "Using input_dir: /Users/isabelleguyon/Documents/Projects/ParisSaclay/Enseignement/Winter2018/M2_AIC/2.starting_kit/ecolo_regression/starting-kit/sample_data\n",
      "Using output_dir: /Users/isabelleguyon/Documents/Projects/ParisSaclay/Enseignement/Winter2018/M2_AIC/2.starting_kit/ecolo_regression/starting-kit/sample_result_submission\n",
      "Using program_dir: /Users/isabelleguyon/Documents/Projects/ParisSaclay/Enseignement/Winter2018/M2_AIC/2.starting_kit/ecolo_regression/starting-kit/ingestion_program\n",
      "Using submission_dir: /Users/isabelleguyon/Documents/Projects/ParisSaclay/Enseignement/Winter2018/M2_AIC/2.starting_kit/ecolo_regression/starting-kit/sample_code_submission\n",
      "\n",
      "========== Ingestion program version 6 ==========\n",
      "\n",
      "************************************************\n",
      "******** Processing dataset Data ********\n",
      "************************************************\n",
      "========= Reading and converting data ==========\n",
      "Info file NOT found : /Users/isabelleguyon/Documents/Projects/ParisSaclay/Enseignement/Winter2018/M2_AIC/2.starting_kit/ecolo_regression/starting-kit/sample_data/data_public.info\n",
      "========= Reading /Users/isabelleguyon/Documents/Projects/ParisSaclay/Enseignement/Winter2018/M2_AIC/2.starting_kit/ecolo_regression/starting-kit/sample_data/data_feat.type\n",
      "[+] Success in  0.00 sec\n",
      "========= Reading /Users/isabelleguyon/Documents/Projects/ParisSaclay/Enseignement/Winter2018/M2_AIC/2.starting_kit/ecolo_regression/starting-kit/sample_data/data_train.data\n",
      "[+] Success in  0.40 sec\n",
      "========= Reading /Users/isabelleguyon/Documents/Projects/ParisSaclay/Enseignement/Winter2018/M2_AIC/2.starting_kit/ecolo_regression/starting-kit/sample_data/data_train.solution\n",
      "[+] Success in  0.08 sec\n",
      "========= Reading /Users/isabelleguyon/Documents/Projects/ParisSaclay/Enseignement/Winter2018/M2_AIC/2.starting_kit/ecolo_regression/starting-kit/sample_data/data_valid.data\n",
      "[+] Success in  0.58 sec\n",
      "========= Reading /Users/isabelleguyon/Documents/Projects/ParisSaclay/Enseignement/Winter2018/M2_AIC/2.starting_kit/ecolo_regression/starting-kit/sample_data/data_test.data\n",
      "[+] Success in  0.52 sec\n",
      "DataManager : data\n",
      "info:\n",
      "\ttask = multiclass.classification\n",
      "\tvalid_num = 73858\n",
      "\thas_categorical = 0\n",
      "\tfeat_type = Mixed\n",
      "\tformat = dense\n",
      "\tmetric = auc_metric\n",
      "\ttarget_type = Categorical\n",
      "\ttest_num = 71685\n",
      "\tlabel_num = 351\n",
      "\ttarget_num = 1\n",
      "\ttrain_num = 56480\n",
      "\thas_missing = 0\n",
      "\tusage = No Info File\n",
      "\tfeat_num = 14\n",
      "\ttime_budget = 600\n",
      "\tis_sparse = 0\n",
      "\tname = data\n",
      "data:\n",
      "\tX_train = array(56480, 14)\n",
      "\tY_train = array(56480, 1)\n",
      "\tX_valid = array(73858, 14)\n",
      "\tX_test = array(71685, 14)\n",
      "feat_type:\tarray(14,)\n",
      "feat_idx:\tarray(14,)\n",
      "\n",
      "[+] Size of uploaded data  72.00 bytes\n",
      "[+] Cumulated time budget (all tasks so far)  600.00 sec\n",
      "[+] Time budget for this task 600.00 sec\n",
      "[+] Remaining time after reading data 597.96 sec\n",
      "======== Creating model ==========\n",
      "**********************************************************\n",
      "****** Attempting to reload model to avoid training ******\n",
      "**********************************************************\n",
      "Model reloaded from: /Users/isabelleguyon/Documents/Projects/ParisSaclay/Enseignement/Winter2018/M2_AIC/2.starting_kit/ecolo_regression/starting-kit/sample_code_submission/data_model.pickle\n",
      "[+] Model reloaded, no need to train!\n",
      "[+] Prediction success, time spent so far  2.25 sec\n",
      "======== Saving results to: /Users/isabelleguyon/Documents/Projects/ParisSaclay/Enseignement/Winter2018/M2_AIC/2.starting_kit/ecolo_regression/starting-kit/sample_result_submission\n",
      "[+] Results saved, time spent so far  2.62 sec\n",
      "[+] End cycle, time left 597.38 sec\n",
      "[+] Done\n",
      "[+] Overall time spent  3.66 sec ::  Overall time budget 600.00 sec\n"
     ]
    }
   ],
   "source": [
    "!python $problem_dir/ingestion.py $datadir $outdir $problem_dir $model_dir"
   ]
  },
  {
   "cell_type": "markdown",
   "metadata": {
    "collapsed": true
   },
   "source": [
    "## Preparing the submission\n",
    "\n",
    "Zip the contents of `sample_code_submission/` (without the directory), or download the challenge public_data and run the command in the previous cell, after replacing sample_data by public_data.\n",
    "Then zip the contents of `sample_result_submission/` (without the directory).\n",
    "<b><span style=\"color:red\">Do NOT zip the data with your submissions</span></b>."
   ]
  },
  {
   "cell_type": "code",
   "execution_count": null,
   "metadata": {
    "collapsed": true
   },
   "outputs": [],
   "source": []
  },
  {
   "cell_type": "code",
   "execution_count": null,
   "metadata": {
    "collapsed": true
   },
   "outputs": [],
   "source": []
  }
 ],
 "metadata": {
  "kernelspec": {
   "display_name": "Python [default]",
   "language": "python",
   "name": "python2"
  },
  "language_info": {
   "codemirror_mode": {
    "name": "ipython",
    "version": 2
   },
   "file_extension": ".py",
   "mimetype": "text/x-python",
   "name": "python",
   "nbconvert_exporter": "python",
   "pygments_lexer": "ipython2",
   "version": "2.7.13"
  }
 },
 "nbformat": 4,
 "nbformat_minor": 1
}
